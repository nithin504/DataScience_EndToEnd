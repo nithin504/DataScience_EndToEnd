{
 "cells": [
  {
   "cell_type": "code",
   "execution_count": 1,
   "id": "3bb0a10b",
   "metadata": {},
   "outputs": [
    {
     "data": {
      "text/plain": [
       "'d:\\\\AIprojects\\\\DataScience_EndToEnd\\\\research'"
      ]
     },
     "execution_count": 1,
     "metadata": {},
     "output_type": "execute_result"
    }
   ],
   "source": [
    "import os \n",
    "%pwd"
   ]
  },
  {
   "cell_type": "code",
   "execution_count": 2,
   "id": "3265ed25",
   "metadata": {},
   "outputs": [
    {
     "data": {
      "text/plain": [
       "'D:\\\\AIprojects\\\\DataScience_EndToEnd'"
      ]
     },
     "execution_count": 2,
     "metadata": {},
     "output_type": "execute_result"
    }
   ],
   "source": [
    "os.chdir(\"D:\\AIprojects\\DataScience_EndToEnd\")\n",
    "%pwd"
   ]
  },
  {
   "cell_type": "code",
   "execution_count": 28,
   "id": "814f2f87",
   "metadata": {},
   "outputs": [],
   "source": [
    "from dataclasses import dataclass\n",
    "from pathlib import Path\n",
    "\n",
    "@dataclass\n",
    "\n",
    "class ModelTrainerConfig:\n",
    "\n",
    "    root_dir: Path\n",
    "    train_data_path: Path\n",
    "    test_data_path: Path\n",
    "    model_name: str\n",
    "    n_estimators: int\n",
    "    max_depth: int\n",
    "    min_samples_split: int\n",
    "    min_samples_leaf: int\n",
    "    max_features: str\n",
    "    target_column: str"
   ]
  },
  {
   "cell_type": "code",
   "execution_count": 4,
   "id": "bce080a1",
   "metadata": {},
   "outputs": [],
   "source": [
    "from src.datascience.constants import *\n",
    "from src.datascience.utils.common import read_yaml,create_directories"
   ]
  },
  {
   "cell_type": "code",
   "execution_count": 29,
   "id": "4c900acd",
   "metadata": {},
   "outputs": [],
   "source": [
    "class ConfigurationManager:\n",
    "    def __init__(self,\n",
    "                 config_filepath=CONFIG_FILE_PATH,\n",
    "                 params_filepath = PARAMS_FILE_PATH,\n",
    "                 schema_filepath = SCHEMA_FILE_PATH):\n",
    "        self.config=read_yaml(config_filepath)\n",
    "        self.params=read_yaml(params_filepath)\n",
    "        self.schema=read_yaml(schema_filepath)\n",
    "\n",
    "        create_directories([self.config.artifacts_root])\n",
    "\n",
    "    def get_model_trainer_config(self) -> ModelTrainerConfig:\n",
    "        config=self.config.model_trainer\n",
    "        params=self.params.random_forest\n",
    "        schema=self.schema.TARGET_COLUMN\n",
    "\n",
    "        create_directories([config.root_dir])\n",
    "\n",
    "        model_trainer_config=ModelTrainerConfig(root_dir=config.root_dir,train_data_path=config.train_data_path,test_data_path=config.test_data_path,model_name=config.model_name,n_estimators=params.n_estimators, max_depth=params.max_depth,min_samples_split=params.min_samples_split,min_samples_leaf=params.min_samples_leaf,max_features=params.max_features,target_column=schema.name)\n",
    "        \n",
    "        return model_trainer_config\n",
    "\n",
    "\n"
   ]
  },
  {
   "cell_type": "code",
   "execution_count": 6,
   "id": "cd9d28e5",
   "metadata": {},
   "outputs": [],
   "source": [
    "import pandas as pd\n",
    "import os\n",
    "from src.datascience import logger\n",
    "from sklearn.linear_model import ElasticNet\n",
    "import joblib"
   ]
  },
  {
   "cell_type": "code",
   "execution_count": 17,
   "id": "a2a4d6d1",
   "metadata": {},
   "outputs": [
    {
     "name": "stderr",
     "output_type": "stream",
     "text": [
      "d:\\AIprojects\\DataScience_EndToEnd\\venv\\lib\\site-packages\\sklearn\\base.py:1363: DataConversionWarning: A column-vector y was passed when a 1d array was expected. Please change the shape of y to (n_samples,), for example using ravel().\n",
      "  return fit_method(estimator, *args, **kwargs)\n",
      "d:\\AIprojects\\DataScience_EndToEnd\\venv\\lib\\site-packages\\sklearn\\ensemble\\_gb.py:672: DataConversionWarning: A column-vector y was passed when a 1d array was expected. Please change the shape of y to (n_samples, ), for example using ravel().\n",
      "  y = column_or_1d(y, warn=True)  # TODO: Is this still required?\n"
     ]
    },
    {
     "name": "stdout",
     "output_type": "stream",
     "text": [
      "📊 Model Performance:\n",
      "\n",
      "Linear Regression: R² = 0.403, RMSE = 0.625\n",
      "ElasticNet: R² = 0.008, RMSE = 0.805\n",
      "Random Forest: R² = 0.522, RMSE = 0.559\n",
      "Gradient Boosting: R² = 0.447, RMSE = 0.601\n",
      "XGBoost: R² = 0.462, RMSE = 0.593\n",
      "SVR: R² = 0.185, RMSE = 0.73\n",
      "k-NN Regressor: R² = 0.186, RMSE = 0.729\n",
      "\n",
      "🏆 Best Model: Random Forest\n",
      "👉 R² = 0.522, RMSE = 0.559\n"
     ]
    },
    {
     "name": "stderr",
     "output_type": "stream",
     "text": [
      "d:\\AIprojects\\DataScience_EndToEnd\\venv\\lib\\site-packages\\sklearn\\utils\\validation.py:1406: DataConversionWarning: A column-vector y was passed when a 1d array was expected. Please change the shape of y to (n_samples, ), for example using ravel().\n",
      "  y = column_or_1d(y, warn=True)\n"
     ]
    }
   ],
   "source": [
    "from sklearn.ensemble import RandomForestRegressor\n",
    "from sklearn.metrics import mean_squared_error, mean_absolute_error, r2_score\n",
    "from sklearn.linear_model import LinearRegression, ElasticNet\n",
    "from sklearn.ensemble import RandomForestRegressor, GradientBoostingRegressor\n",
    "from sklearn.svm import SVR\n",
    "from sklearn.neighbors import KNeighborsRegressor\n",
    "import xgboost as xgb\n",
    "import numpy as np\n",
    "train_data = pd.read_csv(\"artifacts/data_transformation/train.csv\")\n",
    "test_data = pd.read_csv(\"artifacts/data_transformation/test.csv\")\n",
    "train_x = train_data.drop(['quality'], axis=1)\n",
    "test_x = test_data.drop(['quality'], axis=1)\n",
    "train_y = train_data[['quality']]\n",
    "test_y = test_data[['quality']]\n",
    "models = {\n",
    "    \"Linear Regression\": LinearRegression(),\n",
    "    \"ElasticNet\": ElasticNet(),\n",
    "    \"Random Forest\": RandomForestRegressor(),\n",
    "    \"Gradient Boosting\": GradientBoostingRegressor(),\n",
    "    \"XGBoost\": xgb.XGBRegressor(),\n",
    "    \"SVR\": SVR(),\n",
    "    \"k-NN Regressor\": KNeighborsRegressor()\n",
    "}\n",
    "\n",
    "results = {}\n",
    "\n",
    "for name, model in models.items():\n",
    "    model.fit(train_x, train_y)\n",
    "    preds = model.predict(test_x)\n",
    "    r2 = r2_score(test_y, preds)\n",
    "    rmse = np.sqrt(mean_squared_error(test_y, preds))\n",
    "    results[name] = {\"R²\": round(r2, 3), \"RMSE\": round(rmse, 3)}\n",
    "\n",
    "# Display results\n",
    "print(\"📊 Model Performance:\\n\")\n",
    "for model_name, scores in results.items():\n",
    "    print(f\"{model_name}: R² = {scores['R²']}, RMSE = {scores['RMSE']}\")\n",
    "best_model = max(results.items(), key=lambda item: item[1][\"R²\"])\n",
    "\n",
    "print(f\"\\n🏆 Best Model: {best_model[0]}\")\n",
    "print(f\"👉 R² = {best_model[1]['R²']}, RMSE = {best_model[1]['RMSE']}\")\n",
    "\n"
   ]
  },
  {
   "cell_type": "code",
   "execution_count": 30,
   "id": "fba6cc59",
   "metadata": {},
   "outputs": [],
   "source": [
    "class ModelTrainer:\n",
    "    def __init__(self, config: ModelTrainerConfig):\n",
    "        self.config = config\n",
    "\n",
    "    def train(self):\n",
    "        train_data = pd.read_csv(self.config.train_data_path)\n",
    "        test_data = pd.read_csv(self.config.test_data_path)\n",
    "\n",
    "\n",
    "        train_x = train_data.drop([self.config.target_column], axis=1)\n",
    "        test_x = test_data.drop([self.config.target_column], axis=1)\n",
    "        train_y = train_data[[self.config.target_column]]\n",
    "        test_y = test_data[[self.config.target_column]]\n",
    "\n",
    "\n",
    "        lr = RandomForestRegressor(n_estimators=self.config.n_estimators, max_depth=self.config.max_depth,min_samples_split=self.config.min_samples_split,min_samples_leaf=self.config.min_samples_leaf,max_features=self.config.max_features, random_state=42)\n",
    "        lr.fit(train_x, train_y)\n",
    "\n",
    "        joblib.dump(lr, os.path.join(self.config.root_dir, self.config.model_name))\n",
    "\n",
    "\n",
    "    "
   ]
  },
  {
   "cell_type": "code",
   "execution_count": 31,
   "id": "2ec798f1",
   "metadata": {},
   "outputs": [
    {
     "name": "stdout",
     "output_type": "stream",
     "text": [
      "[2025-07-04 20:55:01,285]: INFO: yaml file: config\\config.yaml loaded successfully]\n",
      "[2025-07-04 20:55:01,288]: INFO: yaml file: params.yaml loaded successfully]\n",
      "[2025-07-04 20:55:01,294]: INFO: yaml file: schema.yaml loaded successfully]\n",
      "[2025-07-04 20:55:01,296]: INFO: created directory at: artifacts]\n",
      "[2025-07-04 20:55:01,298]: INFO: created directory at: artifacts/model_trainer]\n"
     ]
    },
    {
     "name": "stderr",
     "output_type": "stream",
     "text": [
      "d:\\AIprojects\\DataScience_EndToEnd\\venv\\lib\\site-packages\\sklearn\\base.py:1363: DataConversionWarning: A column-vector y was passed when a 1d array was expected. Please change the shape of y to (n_samples,), for example using ravel().\n",
      "  return fit_method(estimator, *args, **kwargs)\n"
     ]
    }
   ],
   "source": [
    "try:\n",
    "    config = ConfigurationManager()\n",
    "    model_trainer_config = config.get_model_trainer_config()\n",
    "    model_trainer = ModelTrainer(config=model_trainer_config)\n",
    "    model_trainer.train()\n",
    "except Exception as e:\n",
    "    raise e"
   ]
  },
  {
   "cell_type": "code",
   "execution_count": null,
   "id": "bfaa6fe0",
   "metadata": {},
   "outputs": [],
   "source": []
  }
 ],
 "metadata": {
  "kernelspec": {
   "display_name": "Python 3",
   "language": "python",
   "name": "python3"
  },
  "language_info": {
   "codemirror_mode": {
    "name": "ipython",
    "version": 3
   },
   "file_extension": ".py",
   "mimetype": "text/x-python",
   "name": "python",
   "nbconvert_exporter": "python",
   "pygments_lexer": "ipython3",
   "version": "3.10.0"
  }
 },
 "nbformat": 4,
 "nbformat_minor": 5
}
